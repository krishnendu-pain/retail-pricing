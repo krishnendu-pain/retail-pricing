{
 "cells": [
  {
   "cell_type": "markdown",
   "metadata": {},
   "source": [
    "## Import the Libraries"
   ]
  },
  {
   "cell_type": "code",
   "execution_count": 1,
   "metadata": {},
   "outputs": [],
   "source": [
    "import pandas as pd\n",
    "import numpy as np\n",
    "import matplotlib.pyplot as plt\n",
    "import seaborn as sns\n",
    "from sklearn.model_selection import train_test_split\n",
    "import string\n",
    "from nltk.corpus import stopwords\n",
    "from sklearn.compose import ColumnTransformer\n",
    "from sklearn.pipeline import Pipeline\n",
    "from sklearn.feature_extraction.text import TfidfVectorizer\n",
    "from sklearn.linear_model import LinearRegression, Ridge, Lasso, SGDRegressor\n",
    "from sklearn.ensemble import RandomForestRegressor\n",
    "from xgboost import XGBRegressor\n",
    "from sklearn.metrics import mean_squared_error, r2_score"
   ]
  },
  {
   "cell_type": "markdown",
   "metadata": {},
   "source": [
    "## Load the Dataset"
   ]
  },
  {
   "cell_type": "code",
   "execution_count": 2,
   "metadata": {},
   "outputs": [
    {
     "data": {
      "text/html": [
       "<div>\n",
       "<style scoped>\n",
       "    .dataframe tbody tr th:only-of-type {\n",
       "        vertical-align: middle;\n",
       "    }\n",
       "\n",
       "    .dataframe tbody tr th {\n",
       "        vertical-align: top;\n",
       "    }\n",
       "\n",
       "    .dataframe thead th {\n",
       "        text-align: right;\n",
       "    }\n",
       "</style>\n",
       "<table border=\"1\" class=\"dataframe\">\n",
       "  <thead>\n",
       "    <tr style=\"text-align: right;\">\n",
       "      <th></th>\n",
       "      <th>train_id</th>\n",
       "      <th>name</th>\n",
       "      <th>item_condition_id</th>\n",
       "      <th>category_name</th>\n",
       "      <th>brand_name</th>\n",
       "      <th>price</th>\n",
       "      <th>shipping</th>\n",
       "      <th>item_description</th>\n",
       "    </tr>\n",
       "  </thead>\n",
       "  <tbody>\n",
       "    <tr>\n",
       "      <th>0</th>\n",
       "      <td>0</td>\n",
       "      <td>MLB Cincinnati Reds T Shirt Size XL</td>\n",
       "      <td>3</td>\n",
       "      <td>Men/Tops/T-shirts</td>\n",
       "      <td>NaN</td>\n",
       "      <td>10.0</td>\n",
       "      <td>1</td>\n",
       "      <td>No description yet</td>\n",
       "    </tr>\n",
       "    <tr>\n",
       "      <th>1</th>\n",
       "      <td>1</td>\n",
       "      <td>Razer BlackWidow Chroma Keyboard</td>\n",
       "      <td>3</td>\n",
       "      <td>Electronics/Computers &amp; Tablets/Components &amp; P...</td>\n",
       "      <td>Razer</td>\n",
       "      <td>52.0</td>\n",
       "      <td>0</td>\n",
       "      <td>This keyboard is in great condition and works ...</td>\n",
       "    </tr>\n",
       "    <tr>\n",
       "      <th>2</th>\n",
       "      <td>2</td>\n",
       "      <td>AVA-VIV Blouse</td>\n",
       "      <td>1</td>\n",
       "      <td>Women/Tops &amp; Blouses/Blouse</td>\n",
       "      <td>Target</td>\n",
       "      <td>10.0</td>\n",
       "      <td>1</td>\n",
       "      <td>Adorable top with a hint of lace and a key hol...</td>\n",
       "    </tr>\n",
       "    <tr>\n",
       "      <th>3</th>\n",
       "      <td>3</td>\n",
       "      <td>Leather Horse Statues</td>\n",
       "      <td>1</td>\n",
       "      <td>Home/Home Décor/Home Décor Accents</td>\n",
       "      <td>NaN</td>\n",
       "      <td>35.0</td>\n",
       "      <td>1</td>\n",
       "      <td>New with tags. Leather horses. Retail for [rm]...</td>\n",
       "    </tr>\n",
       "    <tr>\n",
       "      <th>4</th>\n",
       "      <td>4</td>\n",
       "      <td>24K GOLD plated rose</td>\n",
       "      <td>1</td>\n",
       "      <td>Women/Jewelry/Necklaces</td>\n",
       "      <td>NaN</td>\n",
       "      <td>44.0</td>\n",
       "      <td>0</td>\n",
       "      <td>Complete with certificate of authenticity</td>\n",
       "    </tr>\n",
       "  </tbody>\n",
       "</table>\n",
       "</div>"
      ],
      "text/plain": [
       "   train_id                                 name  item_condition_id  \\\n",
       "0         0  MLB Cincinnati Reds T Shirt Size XL                  3   \n",
       "1         1     Razer BlackWidow Chroma Keyboard                  3   \n",
       "2         2                       AVA-VIV Blouse                  1   \n",
       "3         3                Leather Horse Statues                  1   \n",
       "4         4                 24K GOLD plated rose                  1   \n",
       "\n",
       "                                       category_name brand_name  price  \\\n",
       "0                                  Men/Tops/T-shirts        NaN   10.0   \n",
       "1  Electronics/Computers & Tablets/Components & P...      Razer   52.0   \n",
       "2                        Women/Tops & Blouses/Blouse     Target   10.0   \n",
       "3                 Home/Home Décor/Home Décor Accents        NaN   35.0   \n",
       "4                            Women/Jewelry/Necklaces        NaN   44.0   \n",
       "\n",
       "   shipping                                   item_description  \n",
       "0         1                                 No description yet  \n",
       "1         0  This keyboard is in great condition and works ...  \n",
       "2         1  Adorable top with a hint of lace and a key hol...  \n",
       "3         1  New with tags. Leather horses. Retail for [rm]...  \n",
       "4         0          Complete with certificate of authenticity  "
      ]
     },
     "execution_count": 2,
     "metadata": {},
     "output_type": "execute_result"
    }
   ],
   "source": [
    "df = pd.read_csv(\"train.tsv\", sep='\\t')\n",
    "df.head()"
   ]
  },
  {
   "cell_type": "code",
   "execution_count": 3,
   "metadata": {},
   "outputs": [
    {
     "data": {
      "text/plain": [
       "(1482535, 8)"
      ]
     },
     "execution_count": 3,
     "metadata": {},
     "output_type": "execute_result"
    }
   ],
   "source": [
    "df.shape"
   ]
  },
  {
   "cell_type": "markdown",
   "metadata": {},
   "source": [
    "## Exploratory Data Analysis"
   ]
  },
  {
   "cell_type": "code",
   "execution_count": 4,
   "metadata": {},
   "outputs": [
    {
     "data": {
      "text/plain": [
       "train_id                  0\n",
       "name                      0\n",
       "item_condition_id         0\n",
       "category_name          6327\n",
       "brand_name           632682\n",
       "price                     0\n",
       "shipping                  0\n",
       "item_description          4\n",
       "dtype: int64"
      ]
     },
     "execution_count": 4,
     "metadata": {},
     "output_type": "execute_result"
    }
   ],
   "source": [
    "# Null values in each column\n",
    "df.isna().sum()"
   ]
  },
  {
   "cell_type": "code",
   "execution_count": 5,
   "metadata": {},
   "outputs": [
    {
     "data": {
      "text/plain": [
       "train_id             1482535\n",
       "name                 1225273\n",
       "item_condition_id          5\n",
       "category_name           1287\n",
       "brand_name              4809\n",
       "price                    828\n",
       "shipping                   2\n",
       "item_description     1281426\n",
       "dtype: int64"
      ]
     },
     "execution_count": 5,
     "metadata": {},
     "output_type": "execute_result"
    }
   ],
   "source": [
    "# No. of unique values in each column\n",
    "df.nunique(axis=0)"
   ]
  },
  {
   "cell_type": "code",
   "execution_count": 6,
   "metadata": {},
   "outputs": [
    {
     "name": "stdout",
     "output_type": "stream",
     "text": [
      "2009.0\n",
      "0.0\n",
      "26.737516146330442\n",
      "17.0\n"
     ]
    }
   ],
   "source": [
    "# Maximum, minimum, mean and median values of price\n",
    "print(df['price'].max())\n",
    "print(df['price'].min())\n",
    "print(df['price'].mean())\n",
    "print(df['price'].median())"
   ]
  },
  {
   "cell_type": "code",
   "execution_count": 7,
   "metadata": {},
   "outputs": [
    {
     "data": {
      "text/plain": [
       "(array([1.472289e+06, 8.335000e+03, 1.169000e+03, 3.990000e+02,\n",
       "        1.780000e+02, 6.500000e+01, 4.700000e+01, 2.100000e+01,\n",
       "        1.600000e+01, 1.600000e+01]),\n",
       " array([   0. ,  200.9,  401.8,  602.7,  803.6, 1004.5, 1205.4, 1406.3,\n",
       "        1607.2, 1808.1, 2009. ]),\n",
       " <a list of 10 Patch objects>)"
      ]
     },
     "execution_count": 7,
     "metadata": {},
     "output_type": "execute_result"
    },
    {
     "data": {
      "image/png": "[encoded data removed]",
      "text/plain": [
       "<Figure size 432x288 with 1 Axes>"
      ]
     },
     "metadata": {
      "needs_background": "light"
     },
     "output_type": "display_data"
    }
   ],
   "source": [
    "# Histogram for price\n",
    "plt.hist(df['price'])"
   ]
  },
  {
   "cell_type": "code",
   "execution_count": 8,
   "metadata": {},
   "outputs": [
    {
     "data": {
      "text/plain": [
       "(array([8.74000e+02, 1.87030e+04, 1.93836e+05, 6.20246e+05, 4.46867e+05,\n",
       "        1.53715e+05, 3.83370e+04, 8.41300e+03, 1.34000e+03, 2.04000e+02]),\n",
       " array([0.      , 0.760589, 1.521178, 2.281767, 3.042356, 3.802945,\n",
       "        4.563534, 5.324123, 6.084712, 6.845301, 7.60589 ]),\n",
       " <a list of 10 Patch objects>)"
      ]
     },
     "execution_count": 8,
     "metadata": {},
     "output_type": "execute_result"
    },
    {
     "data": {
      "image/png": "[encoded data removed]",
      "text/plain": [
       "<Figure size 432x288 with 1 Axes>"
      ]
     },
     "metadata": {
      "needs_background": "light"
     },
     "output_type": "display_data"
    }
   ],
   "source": [
    "# Histogram of log(price), where log is natural logarithm\n",
    "plt.hist(np.log1p(df['price'].values))"
   ]
  },
  {
   "cell_type": "markdown",
   "metadata": {},
   "source": [
    "## Feature Engineering"
   ]
  },
  {
   "cell_type": "code",
   "execution_count": 9,
   "metadata": {},
   "outputs": [
    {
     "data": {
      "text/plain": [
       "train_id             0\n",
       "name                 0\n",
       "item_condition_id    0\n",
       "category_name        0\n",
       "brand_name           0\n",
       "price                0\n",
       "shipping             0\n",
       "item_description     0\n",
       "dtype: int64"
      ]
     },
     "execution_count": 9,
     "metadata": {},
     "output_type": "execute_result"
    }
   ],
   "source": [
    "# Replacing the Null values with 'missing'\n",
    "df['category_name'].fillna(value='missing', inplace=True)\n",
    "df['brand_name'].fillna(value='missing', inplace=True)\n",
    "df['item_description'].fillna(value='No description yet', inplace=True)\n",
    "\n",
    "df.isna().sum()"
   ]
  },
  {
   "cell_type": "code",
   "execution_count": 10,
   "metadata": {},
   "outputs": [
    {
     "data": {
      "text/html": [
       "<div>\n",
       "<style scoped>\n",
       "    .dataframe tbody tr th:only-of-type {\n",
       "        vertical-align: middle;\n",
       "    }\n",
       "\n",
       "    .dataframe tbody tr th {\n",
       "        vertical-align: top;\n",
       "    }\n",
       "\n",
       "    .dataframe thead th {\n",
       "        text-align: right;\n",
       "    }\n",
       "</style>\n",
       "<table border=\"1\" class=\"dataframe\">\n",
       "  <thead>\n",
       "    <tr style=\"text-align: right;\">\n",
       "      <th></th>\n",
       "      <th>train_id</th>\n",
       "      <th>name</th>\n",
       "      <th>item_condition_id</th>\n",
       "      <th>category_name</th>\n",
       "      <th>brand_name</th>\n",
       "      <th>price</th>\n",
       "      <th>shipping</th>\n",
       "      <th>item_description</th>\n",
       "      <th>name_cat_brand_des</th>\n",
       "    </tr>\n",
       "  </thead>\n",
       "  <tbody>\n",
       "    <tr>\n",
       "      <th>0</th>\n",
       "      <td>0</td>\n",
       "      <td>MLB Cincinnati Reds T Shirt Size XL</td>\n",
       "      <td>3</td>\n",
       "      <td>Men/Tops/T-shirts</td>\n",
       "      <td>missing</td>\n",
       "      <td>10.0</td>\n",
       "      <td>1</td>\n",
       "      <td>No description yet</td>\n",
       "      <td>MLB Cincinnati Reds T Shirt Size XL Men/Tops/T...</td>\n",
       "    </tr>\n",
       "    <tr>\n",
       "      <th>1</th>\n",
       "      <td>1</td>\n",
       "      <td>Razer BlackWidow Chroma Keyboard</td>\n",
       "      <td>3</td>\n",
       "      <td>Electronics/Computers &amp; Tablets/Components &amp; P...</td>\n",
       "      <td>Razer</td>\n",
       "      <td>52.0</td>\n",
       "      <td>0</td>\n",
       "      <td>This keyboard is in great condition and works ...</td>\n",
       "      <td>Razer BlackWidow Chroma Keyboard Electronics/C...</td>\n",
       "    </tr>\n",
       "    <tr>\n",
       "      <th>2</th>\n",
       "      <td>2</td>\n",
       "      <td>AVA-VIV Blouse</td>\n",
       "      <td>1</td>\n",
       "      <td>Women/Tops &amp; Blouses/Blouse</td>\n",
       "      <td>Target</td>\n",
       "      <td>10.0</td>\n",
       "      <td>1</td>\n",
       "      <td>Adorable top with a hint of lace and a key hol...</td>\n",
       "      <td>AVA-VIV Blouse Women/Tops &amp; Blouses/Blouse Tar...</td>\n",
       "    </tr>\n",
       "    <tr>\n",
       "      <th>3</th>\n",
       "      <td>3</td>\n",
       "      <td>Leather Horse Statues</td>\n",
       "      <td>1</td>\n",
       "      <td>Home/Home Décor/Home Décor Accents</td>\n",
       "      <td>missing</td>\n",
       "      <td>35.0</td>\n",
       "      <td>1</td>\n",
       "      <td>New with tags. Leather horses. Retail for [rm]...</td>\n",
       "      <td>Leather Horse Statues Home/Home Décor/Home Déc...</td>\n",
       "    </tr>\n",
       "    <tr>\n",
       "      <th>4</th>\n",
       "      <td>4</td>\n",
       "      <td>24K GOLD plated rose</td>\n",
       "      <td>1</td>\n",
       "      <td>Women/Jewelry/Necklaces</td>\n",
       "      <td>missing</td>\n",
       "      <td>44.0</td>\n",
       "      <td>0</td>\n",
       "      <td>Complete with certificate of authenticity</td>\n",
       "      <td>24K GOLD plated rose Women/Jewelry/Necklaces m...</td>\n",
       "    </tr>\n",
       "  </tbody>\n",
       "</table>\n",
       "</div>"
      ],
      "text/plain": [
       "   train_id                                 name  item_condition_id  \\\n",
       "0         0  MLB Cincinnati Reds T Shirt Size XL                  3   \n",
       "1         1     Razer BlackWidow Chroma Keyboard                  3   \n",
       "2         2                       AVA-VIV Blouse                  1   \n",
       "3         3                Leather Horse Statues                  1   \n",
       "4         4                 24K GOLD plated rose                  1   \n",
       "\n",
       "                                       category_name brand_name  price  \\\n",
       "0                                  Men/Tops/T-shirts    missing   10.0   \n",
       "1  Electronics/Computers & Tablets/Components & P...      Razer   52.0   \n",
       "2                        Women/Tops & Blouses/Blouse     Target   10.0   \n",
       "3                 Home/Home Décor/Home Décor Accents    missing   35.0   \n",
       "4                            Women/Jewelry/Necklaces    missing   44.0   \n",
       "\n",
       "   shipping                                   item_description  \\\n",
       "0         1                                 No description yet   \n",
       "1         0  This keyboard is in great condition and works ...   \n",
       "2         1  Adorable top with a hint of lace and a key hol...   \n",
       "3         1  New with tags. Leather horses. Retail for [rm]...   \n",
       "4         0          Complete with certificate of authenticity   \n",
       "\n",
       "                                  name_cat_brand_des  \n",
       "0  MLB Cincinnati Reds T Shirt Size XL Men/Tops/T...  \n",
       "1  Razer BlackWidow Chroma Keyboard Electronics/C...  \n",
       "2  AVA-VIV Blouse Women/Tops & Blouses/Blouse Tar...  \n",
       "3  Leather Horse Statues Home/Home Décor/Home Déc...  \n",
       "4  24K GOLD plated rose Women/Jewelry/Necklaces m...  "
      ]
     },
     "execution_count": 10,
     "metadata": {},
     "output_type": "execute_result"
    }
   ],
   "source": [
    "# Merge the columns 'name', 'category_name', 'brand_name' and 'item_description'\n",
    "df['name_cat_brand_des'] = (df['name'] + ' ' + df['category_name'] + ' ' + df['brand_name'] + ' ' + df['item_description']).values\n",
    "df.head()"
   ]
  },
  {
   "cell_type": "code",
   "execution_count": 11,
   "metadata": {},
   "outputs": [
    {
     "name": "stdout",
     "output_type": "stream",
     "text": [
      "(1482535, 3)\n",
      "(1482535,)\n"
     ]
    }
   ],
   "source": [
    "# Split predictors and target\n",
    "X = df[['name_cat_brand_des', 'item_condition_id', 'shipping']]\n",
    "y = np.log1p(df['price'].values)\n",
    "\n",
    "print(X.shape)\n",
    "print(y.shape)"
   ]
  },
  {
   "cell_type": "code",
   "execution_count": 12,
   "metadata": {},
   "outputs": [
    {
     "data": {
      "text/html": [
       "<div>\n",
       "<style scoped>\n",
       "    .dataframe tbody tr th:only-of-type {\n",
       "        vertical-align: middle;\n",
       "    }\n",
       "\n",
       "    .dataframe tbody tr th {\n",
       "        vertical-align: top;\n",
       "    }\n",
       "\n",
       "    .dataframe thead th {\n",
       "        text-align: right;\n",
       "    }\n",
       "</style>\n",
       "<table border=\"1\" class=\"dataframe\">\n",
       "  <thead>\n",
       "    <tr style=\"text-align: right;\">\n",
       "      <th></th>\n",
       "      <th>name_cat_brand_des</th>\n",
       "      <th>item_condition_id</th>\n",
       "      <th>shipping</th>\n",
       "    </tr>\n",
       "  </thead>\n",
       "  <tbody>\n",
       "    <tr>\n",
       "      <th>0</th>\n",
       "      <td>MLB Cincinnati Reds T Shirt Size XL Men/Tops/T...</td>\n",
       "      <td>3</td>\n",
       "      <td>1</td>\n",
       "    </tr>\n",
       "    <tr>\n",
       "      <th>1</th>\n",
       "      <td>Razer BlackWidow Chroma Keyboard Electronics/C...</td>\n",
       "      <td>3</td>\n",
       "      <td>0</td>\n",
       "    </tr>\n",
       "    <tr>\n",
       "      <th>2</th>\n",
       "      <td>AVA-VIV Blouse Women/Tops &amp; Blouses/Blouse Tar...</td>\n",
       "      <td>1</td>\n",
       "      <td>1</td>\n",
       "    </tr>\n",
       "    <tr>\n",
       "      <th>3</th>\n",
       "      <td>Leather Horse Statues Home/Home Décor/Home Déc...</td>\n",
       "      <td>1</td>\n",
       "      <td>1</td>\n",
       "    </tr>\n",
       "    <tr>\n",
       "      <th>4</th>\n",
       "      <td>24K GOLD plated rose Women/Jewelry/Necklaces m...</td>\n",
       "      <td>1</td>\n",
       "      <td>0</td>\n",
       "    </tr>\n",
       "  </tbody>\n",
       "</table>\n",
       "</div>"
      ],
      "text/plain": [
       "                                  name_cat_brand_des  item_condition_id  \\\n",
       "0  MLB Cincinnati Reds T Shirt Size XL Men/Tops/T...                  3   \n",
       "1  Razer BlackWidow Chroma Keyboard Electronics/C...                  3   \n",
       "2  AVA-VIV Blouse Women/Tops & Blouses/Blouse Tar...                  1   \n",
       "3  Leather Horse Statues Home/Home Décor/Home Déc...                  1   \n",
       "4  24K GOLD plated rose Women/Jewelry/Necklaces m...                  1   \n",
       "\n",
       "   shipping  \n",
       "0         1  \n",
       "1         0  \n",
       "2         1  \n",
       "3         1  \n",
       "4         0  "
      ]
     },
     "execution_count": 12,
     "metadata": {},
     "output_type": "execute_result"
    }
   ],
   "source": [
    "X.head()"
   ]
  },
  {
   "cell_type": "code",
   "execution_count": 13,
   "metadata": {},
   "outputs": [
    {
     "data": {
      "text/plain": [
       "array([2.39789527, 3.97029191, 2.39789527, ..., 2.56494936, 3.8286414 ,\n",
       "       3.13549422])"
      ]
     },
     "execution_count": 13,
     "metadata": {},
     "output_type": "execute_result"
    }
   ],
   "source": [
    "y"
   ]
  },
  {
   "cell_type": "code",
   "execution_count": 14,
   "metadata": {},
   "outputs": [
    {
     "name": "stderr",
     "output_type": "stream",
     "text": [
      "<ipython-input-14-3dd4639565a7>:2: SettingWithCopyWarning: \n",
      "A value is trying to be set on a copy of a slice from a DataFrame.\n",
      "Try using .loc[row_indexer,col_indexer] = value instead\n",
      "\n",
      "See the caveats in the documentation: https://pandas.pydata.org/pandas-docs/stable/user_guide/indexing.html#returning-a-view-versus-a-copy\n",
      "  X['item_condition_id'] = X['item_condition_id'].astype('category')\n",
      "<ipython-input-14-3dd4639565a7>:3: SettingWithCopyWarning: \n",
      "A value is trying to be set on a copy of a slice from a DataFrame.\n",
      "Try using .loc[row_indexer,col_indexer] = value instead\n",
      "\n",
      "See the caveats in the documentation: https://pandas.pydata.org/pandas-docs/stable/user_guide/indexing.html#returning-a-view-versus-a-copy\n",
      "  X['shipping'] = X['shipping'].astype('category')\n"
     ]
    },
    {
     "data": {
      "text/html": [
       "<div>\n",
       "<style scoped>\n",
       "    .dataframe tbody tr th:only-of-type {\n",
       "        vertical-align: middle;\n",
       "    }\n",
       "\n",
       "    .dataframe tbody tr th {\n",
       "        vertical-align: top;\n",
       "    }\n",
       "\n",
       "    .dataframe thead th {\n",
       "        text-align: right;\n",
       "    }\n",
       "</style>\n",
       "<table border=\"1\" class=\"dataframe\">\n",
       "  <thead>\n",
       "    <tr style=\"text-align: right;\">\n",
       "      <th></th>\n",
       "      <th>name_cat_brand_des</th>\n",
       "      <th>item_condition_id</th>\n",
       "      <th>shipping</th>\n",
       "    </tr>\n",
       "  </thead>\n",
       "  <tbody>\n",
       "    <tr>\n",
       "      <th>0</th>\n",
       "      <td>MLB Cincinnati Reds T Shirt Size XL Men/Tops/T...</td>\n",
       "      <td>3</td>\n",
       "      <td>1</td>\n",
       "    </tr>\n",
       "    <tr>\n",
       "      <th>1</th>\n",
       "      <td>Razer BlackWidow Chroma Keyboard Electronics/C...</td>\n",
       "      <td>3</td>\n",
       "      <td>0</td>\n",
       "    </tr>\n",
       "    <tr>\n",
       "      <th>2</th>\n",
       "      <td>AVA-VIV Blouse Women/Tops &amp; Blouses/Blouse Tar...</td>\n",
       "      <td>1</td>\n",
       "      <td>1</td>\n",
       "    </tr>\n",
       "    <tr>\n",
       "      <th>3</th>\n",
       "      <td>Leather Horse Statues Home/Home Décor/Home Déc...</td>\n",
       "      <td>1</td>\n",
       "      <td>1</td>\n",
       "    </tr>\n",
       "    <tr>\n",
       "      <th>4</th>\n",
       "      <td>24K GOLD plated rose Women/Jewelry/Necklaces m...</td>\n",
       "      <td>1</td>\n",
       "      <td>0</td>\n",
       "    </tr>\n",
       "  </tbody>\n",
       "</table>\n",
       "</div>"
      ],
      "text/plain": [
       "                                  name_cat_brand_des item_condition_id  \\\n",
       "0  MLB Cincinnati Reds T Shirt Size XL Men/Tops/T...                 3   \n",
       "1  Razer BlackWidow Chroma Keyboard Electronics/C...                 3   \n",
       "2  AVA-VIV Blouse Women/Tops & Blouses/Blouse Tar...                 1   \n",
       "3  Leather Horse Statues Home/Home Décor/Home Déc...                 1   \n",
       "4  24K GOLD plated rose Women/Jewelry/Necklaces m...                 1   \n",
       "\n",
       "  shipping  \n",
       "0        1  \n",
       "1        0  \n",
       "2        1  \n",
       "3        1  \n",
       "4        0  "
      ]
     },
     "execution_count": 14,
     "metadata": {},
     "output_type": "execute_result"
    }
   ],
   "source": [
    "# Convert item_condition_id and shipping to categorical variable\n",
    "X['item_condition_id'] = X['item_condition_id'].astype('category')\n",
    "X['shipping'] = X['shipping'].astype('category')\n",
    "\n",
    "X.head()"
   ]
  },
  {
   "cell_type": "code",
   "execution_count": 15,
   "metadata": {},
   "outputs": [
    {
     "data": {
      "text/plain": [
       "name_cat_brand_des      object\n",
       "item_condition_id     category\n",
       "shipping              category\n",
       "dtype: object"
      ]
     },
     "execution_count": 15,
     "metadata": {},
     "output_type": "execute_result"
    }
   ],
   "source": [
    "X.dtypes"
   ]
  },
  {
   "cell_type": "code",
   "execution_count": 16,
   "metadata": {},
   "outputs": [
    {
     "name": "stderr",
     "output_type": "stream",
     "text": [
      "<ipython-input-16-89a5c0fd2cf7>:6: SettingWithCopyWarning: \n",
      "A value is trying to be set on a copy of a slice from a DataFrame.\n",
      "Try using .loc[row_indexer,col_indexer] = value instead\n",
      "\n",
      "See the caveats in the documentation: https://pandas.pydata.org/pandas-docs/stable/user_guide/indexing.html#returning-a-view-versus-a-copy\n",
      "  X['name_cat_brand_des'] = X['name_cat_brand_des'].apply(lambda text: remove_punctuation(text))\n"
     ]
    }
   ],
   "source": [
    "# Removal of punctuations\n",
    "PUNCT_TO_REMOVE = string.punctuation\n",
    "def remove_punctuation(text):\n",
    "    return text.translate(str.maketrans('', '', PUNCT_TO_REMOVE))\n",
    "\n",
    "X['name_cat_brand_des'] = X['name_cat_brand_des'].apply(lambda text: remove_punctuation(text))"
   ]
  },
  {
   "cell_type": "code",
   "execution_count": 17,
   "metadata": {},
   "outputs": [
    {
     "name": "stderr",
     "output_type": "stream",
     "text": [
      "<ipython-input-17-9e47ce88aeee>:2: SettingWithCopyWarning: \n",
      "A value is trying to be set on a copy of a slice from a DataFrame.\n",
      "Try using .loc[row_indexer,col_indexer] = value instead\n",
      "\n",
      "See the caveats in the documentation: https://pandas.pydata.org/pandas-docs/stable/user_guide/indexing.html#returning-a-view-versus-a-copy\n",
      "  X['name_cat_brand_des'] = X['name_cat_brand_des'].str.lower()\n"
     ]
    }
   ],
   "source": [
    "# Lower casing\n",
    "X['name_cat_brand_des'] = X['name_cat_brand_des'].str.lower()"
   ]
  },
  {
   "cell_type": "code",
   "execution_count": 18,
   "metadata": {},
   "outputs": [
    {
     "name": "stderr",
     "output_type": "stream",
     "text": [
      "<ipython-input-18-fb61ca84060f>:6: SettingWithCopyWarning: \n",
      "A value is trying to be set on a copy of a slice from a DataFrame.\n",
      "Try using .loc[row_indexer,col_indexer] = value instead\n",
      "\n",
      "See the caveats in the documentation: https://pandas.pydata.org/pandas-docs/stable/user_guide/indexing.html#returning-a-view-versus-a-copy\n",
      "  X['name_cat_brand_des'] = X['name_cat_brand_des'].apply(lambda text: remove_stopwords(text))\n"
     ]
    }
   ],
   "source": [
    "# removal of stopwords\n",
    "STOPWORDS = set(stopwords.words('english'))\n",
    "def remove_stopwords(text):\n",
    "    return \" \".join([word for word in str(text).split() if word not in STOPWORDS])\n",
    "\n",
    "X['name_cat_brand_des'] = X['name_cat_brand_des'].apply(lambda text: remove_stopwords(text))"
   ]
  },
  {
   "cell_type": "code",
   "execution_count": 19,
   "metadata": {},
   "outputs": [
    {
     "data": {
      "text/html": [
       "<div>\n",
       "<style scoped>\n",
       "    .dataframe tbody tr th:only-of-type {\n",
       "        vertical-align: middle;\n",
       "    }\n",
       "\n",
       "    .dataframe tbody tr th {\n",
       "        vertical-align: top;\n",
       "    }\n",
       "\n",
       "    .dataframe thead th {\n",
       "        text-align: right;\n",
       "    }\n",
       "</style>\n",
       "<table border=\"1\" class=\"dataframe\">\n",
       "  <thead>\n",
       "    <tr style=\"text-align: right;\">\n",
       "      <th></th>\n",
       "      <th>name_cat_brand_des</th>\n",
       "      <th>item_condition_id</th>\n",
       "      <th>shipping</th>\n",
       "    </tr>\n",
       "  </thead>\n",
       "  <tbody>\n",
       "    <tr>\n",
       "      <th>0</th>\n",
       "      <td>mlb cincinnati reds shirt size xl mentopstshir...</td>\n",
       "      <td>3</td>\n",
       "      <td>1</td>\n",
       "    </tr>\n",
       "    <tr>\n",
       "      <th>1</th>\n",
       "      <td>razer blackwidow chroma keyboard electronicsco...</td>\n",
       "      <td>3</td>\n",
       "      <td>0</td>\n",
       "    </tr>\n",
       "    <tr>\n",
       "      <th>2</th>\n",
       "      <td>avaviv blouse womentops blousesblouse target a...</td>\n",
       "      <td>1</td>\n",
       "      <td>1</td>\n",
       "    </tr>\n",
       "    <tr>\n",
       "      <th>3</th>\n",
       "      <td>leather horse statues homehome décorhome décor...</td>\n",
       "      <td>1</td>\n",
       "      <td>1</td>\n",
       "    </tr>\n",
       "    <tr>\n",
       "      <th>4</th>\n",
       "      <td>24k gold plated rose womenjewelrynecklaces mis...</td>\n",
       "      <td>1</td>\n",
       "      <td>0</td>\n",
       "    </tr>\n",
       "  </tbody>\n",
       "</table>\n",
       "</div>"
      ],
      "text/plain": [
       "                                  name_cat_brand_des item_condition_id  \\\n",
       "0  mlb cincinnati reds shirt size xl mentopstshir...                 3   \n",
       "1  razer blackwidow chroma keyboard electronicsco...                 3   \n",
       "2  avaviv blouse womentops blousesblouse target a...                 1   \n",
       "3  leather horse statues homehome décorhome décor...                 1   \n",
       "4  24k gold plated rose womenjewelrynecklaces mis...                 1   \n",
       "\n",
       "  shipping  \n",
       "0        1  \n",
       "1        0  \n",
       "2        1  \n",
       "3        1  \n",
       "4        0  "
      ]
     },
     "execution_count": 19,
     "metadata": {},
     "output_type": "execute_result"
    }
   ],
   "source": [
    "X.head()"
   ]
  },
  {
   "cell_type": "code",
   "execution_count": 20,
   "metadata": {},
   "outputs": [],
   "source": [
    "# Making Pipeline to only implement TF-IDF on name_cat_brand_des column\n",
    "featurisation = ColumnTransformer(transformers=[\n",
    "    ('tfidf', TfidfVectorizer(stop_words='english'), 'name_cat_brand_des')\n",
    "])"
   ]
  },
  {
   "cell_type": "code",
   "execution_count": 21,
   "metadata": {},
   "outputs": [],
   "source": [
    "# Splitting train and test set\n",
    "X_train, X_test, y_train, y_test = train_test_split(X, y, test_size=0.3, random_state=10)"
   ]
  },
  {
   "cell_type": "code",
   "execution_count": 22,
   "metadata": {},
   "outputs": [
    {
     "name": "stdout",
     "output_type": "stream",
     "text": [
      "(1037774, 3)\n",
      "(444761, 3)\n",
      "(1037774,)\n",
      "(444761,)\n"
     ]
    }
   ],
   "source": [
    "print(X_train.shape)\n",
    "print(X_test.shape)\n",
    "print(y_train.shape)\n",
    "print(y_test.shape)"
   ]
  },
  {
   "cell_type": "markdown",
   "metadata": {},
   "source": [
    "## Model Building"
   ]
  },
  {
   "cell_type": "markdown",
   "metadata": {},
   "source": [
    "### Random Forest Regressor"
   ]
  },
  {
   "cell_type": "code",
   "execution_count": 23,
   "metadata": {},
   "outputs": [
    {
     "name": "stdout",
     "output_type": "stream",
     "text": [
      "Training Scores:\n",
      "\n",
      "---------------------------\n",
      "Mean Squared Error:  0.39960144684856824\n",
      "R-squared:  0.2880870600384493\n",
      "\n",
      "----------------------------\n",
      "\n",
      "Test Scores:\n",
      "\n",
      "---------------------------\n",
      "Mean Squared Error:  0.4015543105323463\n",
      "R-squared:  0.2846381769355443\n"
     ]
    }
   ],
   "source": [
    "# Random Forest Regression model\n",
    "rf_model = RandomForestRegressor(max_features='sqrt', oob_score=True, min_samples_leaf=50)\n",
    "\n",
    "rf_pipeline = Pipeline([('tfidf',featurisation),('rf_model',rf_model)])\n",
    "rf_pipeline.fit(X_train, y_train)\n",
    "\n",
    "# Training scores\n",
    "y_train_rf = rf_pipeline.predict(X_train)\n",
    "mse_train_rf = mean_squared_error(y_train, y_train_rf)\n",
    "r2_train_rf = r2_score(y_train, y_train_rf)\n",
    "\n",
    "print('Training Scores:\\n')\n",
    "print('---------------------------')\n",
    "print('Mean Squared Error: ', mse_train_rf)\n",
    "print('R-squared: ', r2_train_rf)\n",
    "\n",
    "print('\\n----------------------------\\n')\n",
    "\n",
    "# Test scores\n",
    "y_pred_rf = rf_pipeline.predict(X_test)\n",
    "mse_pred_rf = mean_squared_error(y_test, y_pred_rf)\n",
    "r2_pred_rf = r2_score(y_test, y_pred_rf)\n",
    "\n",
    "print('Test Scores:\\n')\n",
    "print('---------------------------')\n",
    "print('Mean Squared Error: ', mse_pred_rf)\n",
    "print('R-squared: ', r2_pred_rf)"
   ]
  },
  {
   "cell_type": "markdown",
   "metadata": {},
   "source": [
    "### Ridge Regression"
   ]
  },
  {
   "cell_type": "code",
   "execution_count": 24,
   "metadata": {},
   "outputs": [
    {
     "name": "stdout",
     "output_type": "stream",
     "text": [
      "Training Scores:\n",
      "\n",
      "---------------------------\n",
      "Mean Squared Error:  0.21982435645811457\n",
      "R-squared:  0.6083702771462751\n",
      "\n",
      "----------------------------\n",
      "\n",
      "Test Scores:\n",
      "\n",
      "---------------------------\n",
      "Mean Squared Error:  0.25317948735015566\n",
      "R-squared:  0.5489652709910523\n"
     ]
    }
   ],
   "source": [
    "# Ridge Regression model\n",
    "ridge = Ridge()\n",
    "\n",
    "ridge_pipeline = Pipeline([('tfidf',featurisation),('ridge',ridge)])\n",
    "ridge_pipeline.fit(X_train, y_train)\n",
    "\n",
    "# Training scores\n",
    "y_train_ridge = ridge_pipeline.predict(X_train)\n",
    "mse_train_ridge = mean_squared_error(y_train, y_train_ridge)\n",
    "r2_train_ridge = r2_score(y_train, y_train_ridge)\n",
    "\n",
    "print('Training Scores:\\n')\n",
    "print('---------------------------')\n",
    "print('Mean Squared Error: ', mse_train_ridge)\n",
    "print('R-squared: ', r2_train_ridge)\n",
    "\n",
    "print('\\n----------------------------\\n')\n",
    "\n",
    "# Test scores\n",
    "y_pred_ridge = ridge_pipeline.predict(X_test)\n",
    "mse_pred_ridge = mean_squared_error(y_test, y_pred_ridge)\n",
    "r2_pred_ridge = r2_score(y_test, y_pred_ridge)\n",
    "\n",
    "print('Test Scores:\\n')\n",
    "print('---------------------------')\n",
    "print('Mean Squared Error: ', mse_pred_ridge)\n",
    "print('R-squared: ', r2_pred_ridge)"
   ]
  },
  {
   "cell_type": "markdown",
   "metadata": {},
   "source": [
    "### XGBoost Regressor"
   ]
  },
  {
   "cell_type": "code",
   "execution_count": 25,
   "metadata": {},
   "outputs": [
    {
     "name": "stdout",
     "output_type": "stream",
     "text": [
      "Training Scores:\n",
      "\n",
      "---------------------------\n",
      "Mean Squared Error:  0.29741744547934584\n",
      "R-squared:  0.4701337303032992\n",
      "\n",
      "----------------------------\n",
      "\n",
      "Test Scores:\n",
      "\n",
      "---------------------------\n",
      "Mean Squared Error:  0.3055229826782402\n",
      "R-squared:  0.4557162701427646\n"
     ]
    }
   ],
   "source": [
    "# XGBoost Regression model\n",
    "xgb = XGBRegressor()\n",
    "\n",
    "xgb_pipeline = Pipeline([('tfidf',featurisation),('xgb',xgb)])\n",
    "xgb_pipeline.fit(X_train, y_train)\n",
    "\n",
    "# Training scores\n",
    "y_train_xgb = xgb_pipeline.predict(X_train)\n",
    "mse_train_xgb = mean_squared_error(y_train, y_train_xgb)\n",
    "r2_train_xgb = r2_score(y_train, y_train_xgb)\n",
    "\n",
    "print('Training Scores:\\n')\n",
    "print('---------------------------')\n",
    "print('Mean Squared Error: ', mse_train_xgb)\n",
    "print('R-squared: ', r2_train_xgb)\n",
    "\n",
    "print('\\n----------------------------\\n')\n",
    "\n",
    "# Test scores\n",
    "y_pred_xgb = xgb_pipeline.predict(X_test)\n",
    "mse_pred_xgb = mean_squared_error(y_test, y_pred_xgb)\n",
    "r2_pred_xgb = r2_score(y_test, y_pred_xgb)\n",
    "\n",
    "print('Test Scores:\\n')\n",
    "print('---------------------------')\n",
    "print('Mean Squared Error: ', mse_pred_xgb)\n",
    "print('R-squared: ', r2_pred_xgb)"
   ]
  },
  {
   "cell_type": "markdown",
   "metadata": {},
   "source": [
    "### SGD Regressor"
   ]
  },
  {
   "cell_type": "code",
   "execution_count": 26,
   "metadata": {},
   "outputs": [
    {
     "name": "stdout",
     "output_type": "stream",
     "text": [
      "Training Scores:\n",
      "\n",
      "---------------------------\n",
      "Mean Squared Error:  0.31845400502915366\n",
      "R-squared:  0.4326558906360788\n",
      "\n",
      "----------------------------\n",
      "\n",
      "Test Scores:\n",
      "\n",
      "---------------------------\n",
      "Mean Squared Error:  0.3184199623050957\n",
      "R-squared:  0.43274053157912795\n"
     ]
    }
   ],
   "source": [
    "# XGBoost Regression model\n",
    "sgd = SGDRegressor()\n",
    "\n",
    "sgd_pipeline = Pipeline([('tfidf',featurisation),('sgd',sgd)])\n",
    "sgd_pipeline.fit(X_train, y_train)\n",
    "\n",
    "# Training scores\n",
    "y_train_sgd = sgd_pipeline.predict(X_train)\n",
    "mse_train_sgd = mean_squared_error(y_train, y_train_sgd)\n",
    "r2_train_sgd = r2_score(y_train, y_train_sgd)\n",
    "\n",
    "print('Training Scores:\\n')\n",
    "print('---------------------------')\n",
    "print('Mean Squared Error: ', mse_train_sgd)\n",
    "print('R-squared: ', r2_train_sgd)\n",
    "\n",
    "print('\\n----------------------------\\n')\n",
    "\n",
    "# Test scores\n",
    "y_pred_sgd = sgd_pipeline.predict(X_test)\n",
    "mse_pred_sgd = mean_squared_error(y_test, y_pred_sgd)\n",
    "r2_pred_sgd = r2_score(y_test, y_pred_sgd)\n",
    "\n",
    "print('Test Scores:\\n')\n",
    "print('---------------------------')\n",
    "print('Mean Squared Error: ', mse_pred_sgd)\n",
    "print('R-squared: ', r2_pred_sgd)"
   ]
  },
  {
   "cell_type": "markdown",
   "metadata": {},
   "source": [
    "### Lasso Regression"
   ]
  },
  {
   "cell_type": "code",
   "execution_count": null,
   "metadata": {},
   "outputs": [
    {
     "name": "stdout",
     "output_type": "stream",
     "text": [
      "Training Scores:\n",
      "\n",
      "---------------------------\n",
      "Mean Squared Error:  0.5613066211019427\n",
      "R-squared:  0.0\n",
      "\n",
      "----------------------------\n",
      "\n"
     ]
    }
   ],
   "source": [
    "# Lasso Regression model\n",
    "lasso = Lasso()\n",
    "\n",
    "lasso_pipeline = Pipeline([('tfidf',featurisation),('lasso',lasso)])\n",
    "lasso_pipeline.fit(X_train, y_train)\n",
    "\n",
    "# Training scores\n",
    "y_train_lasso = lasso_pipeline.predict(X_train)\n",
    "mse_train_lasso = mean_squared_error(y_train, y_train_lasso)\n",
    "r2_train_lasso = r2_score(y_train, y_train_lasso)\n",
    "\n",
    "print('Training Scores:\\n')\n",
    "print('---------------------------')\n",
    "print('Mean Squared Error: ', mse_train_lasso)\n",
    "print('R-squared: ', r2_train_lasso)\n",
    "\n",
    "print('\\n----------------------------\\n')\n",
    "\n",
    "# Test scores\n",
    "y_pred_lasso = lasso_pipeline.predict(X_test)\n",
    "mse_pred_lasso = mean_squared_error(y_test, y_pred_lasso)\n",
    "r2_pred_lasso = r2_score(y_test, y_pred_lasso)\n",
    "\n",
    "print('Test Scores:\\n')\n",
    "print('---------------------------')\n",
    "print('Mean Squared Error: ', mse_pred_lasso)\n",
    "print('R-squared: ', r2_pred_lasso)"
   ]
  },
  {
   "cell_type": "code",
   "execution_count": null,
   "metadata": {},
   "outputs": [],
   "source": []
  }
 ],
 "metadata": {
  "kernelspec": {
   "display_name": "Python 3",
   "language": "python",
   "name": "python3"
  },
  "language_info": {
   "codemirror_mode": {
    "name": "ipython",
    "version": 3
   },
   "file_extension": ".py",
   "mimetype": "text/x-python",
   "name": "python",
   "nbconvert_exporter": "python",
   "pygments_lexer": "ipython3",
   "version": "3.8.3"
  }
 },
 "nbformat": 4,
 "nbformat_minor": 4
}
